{
 "cells": [
  {
   "cell_type": "markdown",
   "id": "6d21276b",
   "metadata": {},
   "source": [
    "# Новая механика оплаты услуг на сайте"
   ]
  },
  {
   "cell_type": "markdown",
   "id": "27ae1fd1",
   "metadata": {},
   "source": [
    "### A/B-тестирование"
   ]
  },
  {
   "cell_type": "markdown",
   "id": "ef45bdb0",
   "metadata": {},
   "source": [
    "В ходе тестирования гипотезы целевой группе была предложена новая механика оплаты услуг на сайте, у контрольной группы оставалась базовая механика. Необходимо проанализировать итоги эксперимента и сделать вывод о целесообразности запуска новой механики оплаты на всех пользователей.\n",
    "\n",
    "### Входные данные\n",
    "**groups.csv** - файл с информацией о принадлежности пользователя к контрольной или экспериментальной группе (А – контроль, B – целевая группа) \n",
    "\n",
    "**group_add.csv** - дополнительный файл с пользователями, который вам прислали спустя 2 дня после передачи данных\n",
    "\n",
    "**active_studs.csv** - файл с информацией о пользователях, которые зашли на платформу в дни проведения эксперимента. \n",
    "\n",
    "**checks.csv** - файл с информацией об оплатах пользователей в дни проведения эксперимента. "
   ]
  },
  {
   "cell_type": "code",
   "execution_count": 90,
   "id": "0dc89766",
   "metadata": {},
   "outputs": [],
   "source": [
    "import pandas as pd\n",
    "\n",
    "import numpy as np\n",
    "import pandas as pd\n",
    "import seaborn as sns\n",
    "from scipy.stats import norm, mannwhitneyu\n",
    "from scipy import stats\n",
    "import matplotlib.pyplot as plt\n",
    "\n",
    "from tqdm.auto import tqdm\n",
    "\n",
    "plt.style.use('ggplot')\n",
    "\n",
    "# Вывод всех операций в Jupyter (а не только последней)\n",
    "from IPython.core.interactiveshell import InteractiveShell\n",
    "InteractiveShell.ast_node_interactivity = \"all\""
   ]
  },
  {
   "cell_type": "markdown",
   "id": "425ba10e",
   "metadata": {},
   "source": [
    "### Этап. Гипотезы эксперимента"
   ]
  },
  {
   "cell_type": "markdown",
   "id": "828ca76e",
   "metadata": {},
   "source": [
    "В результате эксперимента для каждой из двух групп подсчитаем 2 базовых метрики эффективности работы сайта:\n",
    "* Конверсия\n",
    "* Средний чек\n",
    "\n",
    "##### Гипотезы\n",
    "* **H0**: По итогам эксперимента значения базовых метрик изменится\n",
    "* **H1**: По итогам эксперимента значения базовых метрик изменится"
   ]
  },
  {
   "cell_type": "markdown",
   "id": "9ce8552d",
   "metadata": {},
   "source": [
    "### Этап. Импорт, проверка данных"
   ]
  },
  {
   "cell_type": "code",
   "execution_count": 91,
   "id": "82bb7615",
   "metadata": {
    "scrolled": false
   },
   "outputs": [
    {
     "name": "stdout",
     "output_type": "stream",
     "text": [
      "Файл с информацией о принадлежности пользователя к контрольной или экспериментальной группе \n",
      " (А – контроль, B – целевая группа)\n"
     ]
    },
    {
     "data": {
      "text/html": [
       "<div>\n",
       "<style scoped>\n",
       "    .dataframe tbody tr th:only-of-type {\n",
       "        vertical-align: middle;\n",
       "    }\n",
       "\n",
       "    .dataframe tbody tr th {\n",
       "        vertical-align: top;\n",
       "    }\n",
       "\n",
       "    .dataframe thead th {\n",
       "        text-align: right;\n",
       "    }\n",
       "</style>\n",
       "<table border=\"1\" class=\"dataframe\">\n",
       "  <thead>\n",
       "    <tr style=\"text-align: right;\">\n",
       "      <th></th>\n",
       "      <th>id</th>\n",
       "      <th>grp</th>\n",
       "    </tr>\n",
       "  </thead>\n",
       "  <tbody>\n",
       "    <tr>\n",
       "      <th>0</th>\n",
       "      <td>1489</td>\n",
       "      <td>B</td>\n",
       "    </tr>\n",
       "    <tr>\n",
       "      <th>1</th>\n",
       "      <td>1627</td>\n",
       "      <td>A</td>\n",
       "    </tr>\n",
       "    <tr>\n",
       "      <th>2</th>\n",
       "      <td>1768</td>\n",
       "      <td>B</td>\n",
       "    </tr>\n",
       "    <tr>\n",
       "      <th>3</th>\n",
       "      <td>1783</td>\n",
       "      <td>B</td>\n",
       "    </tr>\n",
       "    <tr>\n",
       "      <th>4</th>\n",
       "      <td>1794</td>\n",
       "      <td>A</td>\n",
       "    </tr>\n",
       "  </tbody>\n",
       "</table>\n",
       "</div>"
      ],
      "text/plain": [
       "     id grp\n",
       "0  1489   B\n",
       "1  1627   A\n",
       "2  1768   B\n",
       "3  1783   B\n",
       "4  1794   A"
      ]
     },
     "execution_count": 91,
     "metadata": {},
     "output_type": "execute_result"
    },
    {
     "name": "stdout",
     "output_type": "stream",
     "text": [
      "<class 'pandas.core.frame.DataFrame'>\n",
      "RangeIndex: 74484 entries, 0 to 74483\n",
      "Data columns (total 2 columns):\n",
      " #   Column  Non-Null Count  Dtype \n",
      "---  ------  --------------  ----- \n",
      " 0   id      74484 non-null  int64 \n",
      " 1   grp     74484 non-null  object\n",
      "dtypes: int64(1), object(1)\n",
      "memory usage: 1.1+ MB\n",
      "Дополнительный файл с пользователями, который вам прислали спустя 2 дня после передачи данных\n"
     ]
    },
    {
     "data": {
      "text/html": [
       "<div>\n",
       "<style scoped>\n",
       "    .dataframe tbody tr th:only-of-type {\n",
       "        vertical-align: middle;\n",
       "    }\n",
       "\n",
       "    .dataframe tbody tr th {\n",
       "        vertical-align: top;\n",
       "    }\n",
       "\n",
       "    .dataframe thead th {\n",
       "        text-align: right;\n",
       "    }\n",
       "</style>\n",
       "<table border=\"1\" class=\"dataframe\">\n",
       "  <thead>\n",
       "    <tr style=\"text-align: right;\">\n",
       "      <th></th>\n",
       "      <th>id</th>\n",
       "      <th>grp</th>\n",
       "    </tr>\n",
       "  </thead>\n",
       "  <tbody>\n",
       "    <tr>\n",
       "      <th>0</th>\n",
       "      <td>5694584</td>\n",
       "      <td>B</td>\n",
       "    </tr>\n",
       "    <tr>\n",
       "      <th>1</th>\n",
       "      <td>5694830</td>\n",
       "      <td>B</td>\n",
       "    </tr>\n",
       "    <tr>\n",
       "      <th>2</th>\n",
       "      <td>5695057</td>\n",
       "      <td>B</td>\n",
       "    </tr>\n",
       "    <tr>\n",
       "      <th>3</th>\n",
       "      <td>5698872</td>\n",
       "      <td>B</td>\n",
       "    </tr>\n",
       "    <tr>\n",
       "      <th>4</th>\n",
       "      <td>5699067</td>\n",
       "      <td>B</td>\n",
       "    </tr>\n",
       "  </tbody>\n",
       "</table>\n",
       "</div>"
      ],
      "text/plain": [
       "        id grp\n",
       "0  5694584   B\n",
       "1  5694830   B\n",
       "2  5695057   B\n",
       "3  5698872   B\n",
       "4  5699067   B"
      ]
     },
     "execution_count": 91,
     "metadata": {},
     "output_type": "execute_result"
    },
    {
     "name": "stdout",
     "output_type": "stream",
     "text": [
      "<class 'pandas.core.frame.DataFrame'>\n",
      "RangeIndex: 92 entries, 0 to 91\n",
      "Data columns (total 2 columns):\n",
      " #   Column  Non-Null Count  Dtype \n",
      "---  ------  --------------  ----- \n",
      " 0   id      92 non-null     int64 \n",
      " 1   grp     92 non-null     object\n",
      "dtypes: int64(1), object(1)\n",
      "memory usage: 1.6+ KB\n",
      "Файл с информацией о пользователях, которые зашли на платформу в дни проведения эксперимента\n"
     ]
    },
    {
     "data": {
      "text/html": [
       "<div>\n",
       "<style scoped>\n",
       "    .dataframe tbody tr th:only-of-type {\n",
       "        vertical-align: middle;\n",
       "    }\n",
       "\n",
       "    .dataframe tbody tr th {\n",
       "        vertical-align: top;\n",
       "    }\n",
       "\n",
       "    .dataframe thead th {\n",
       "        text-align: right;\n",
       "    }\n",
       "</style>\n",
       "<table border=\"1\" class=\"dataframe\">\n",
       "  <thead>\n",
       "    <tr style=\"text-align: right;\">\n",
       "      <th></th>\n",
       "      <th>student_id</th>\n",
       "    </tr>\n",
       "  </thead>\n",
       "  <tbody>\n",
       "    <tr>\n",
       "      <th>0</th>\n",
       "      <td>581585</td>\n",
       "    </tr>\n",
       "    <tr>\n",
       "      <th>1</th>\n",
       "      <td>5723133</td>\n",
       "    </tr>\n",
       "    <tr>\n",
       "      <th>2</th>\n",
       "      <td>3276743</td>\n",
       "    </tr>\n",
       "    <tr>\n",
       "      <th>3</th>\n",
       "      <td>4238589</td>\n",
       "    </tr>\n",
       "    <tr>\n",
       "      <th>4</th>\n",
       "      <td>4475369</td>\n",
       "    </tr>\n",
       "  </tbody>\n",
       "</table>\n",
       "</div>"
      ],
      "text/plain": [
       "   student_id\n",
       "0      581585\n",
       "1     5723133\n",
       "2     3276743\n",
       "3     4238589\n",
       "4     4475369"
      ]
     },
     "execution_count": 91,
     "metadata": {},
     "output_type": "execute_result"
    },
    {
     "name": "stdout",
     "output_type": "stream",
     "text": [
      "<class 'pandas.core.frame.DataFrame'>\n",
      "RangeIndex: 8341 entries, 0 to 8340\n",
      "Data columns (total 1 columns):\n",
      " #   Column      Non-Null Count  Dtype\n",
      "---  ------      --------------  -----\n",
      " 0   student_id  8341 non-null   int64\n",
      "dtypes: int64(1)\n",
      "memory usage: 65.3 KB\n",
      "Файл с информацией об оплатах пользователей в дни проведения эксперимента\n"
     ]
    },
    {
     "data": {
      "text/html": [
       "<div>\n",
       "<style scoped>\n",
       "    .dataframe tbody tr th:only-of-type {\n",
       "        vertical-align: middle;\n",
       "    }\n",
       "\n",
       "    .dataframe tbody tr th {\n",
       "        vertical-align: top;\n",
       "    }\n",
       "\n",
       "    .dataframe thead th {\n",
       "        text-align: right;\n",
       "    }\n",
       "</style>\n",
       "<table border=\"1\" class=\"dataframe\">\n",
       "  <thead>\n",
       "    <tr style=\"text-align: right;\">\n",
       "      <th></th>\n",
       "      <th>student_id</th>\n",
       "      <th>rev</th>\n",
       "    </tr>\n",
       "  </thead>\n",
       "  <tbody>\n",
       "    <tr>\n",
       "      <th>0</th>\n",
       "      <td>1627</td>\n",
       "      <td>990.0</td>\n",
       "    </tr>\n",
       "    <tr>\n",
       "      <th>1</th>\n",
       "      <td>3185</td>\n",
       "      <td>690.0</td>\n",
       "    </tr>\n",
       "    <tr>\n",
       "      <th>2</th>\n",
       "      <td>25973</td>\n",
       "      <td>690.0</td>\n",
       "    </tr>\n",
       "    <tr>\n",
       "      <th>3</th>\n",
       "      <td>26280</td>\n",
       "      <td>690.0</td>\n",
       "    </tr>\n",
       "    <tr>\n",
       "      <th>4</th>\n",
       "      <td>100300</td>\n",
       "      <td>990.0</td>\n",
       "    </tr>\n",
       "  </tbody>\n",
       "</table>\n",
       "</div>"
      ],
      "text/plain": [
       "   student_id    rev\n",
       "0        1627  990.0\n",
       "1        3185  690.0\n",
       "2       25973  690.0\n",
       "3       26280  690.0\n",
       "4      100300  990.0"
      ]
     },
     "execution_count": 91,
     "metadata": {},
     "output_type": "execute_result"
    },
    {
     "name": "stdout",
     "output_type": "stream",
     "text": [
      "<class 'pandas.core.frame.DataFrame'>\n",
      "RangeIndex: 541 entries, 0 to 540\n",
      "Data columns (total 2 columns):\n",
      " #   Column      Non-Null Count  Dtype  \n",
      "---  ------      --------------  -----  \n",
      " 0   student_id  541 non-null    int64  \n",
      " 1   rev         541 non-null    float64\n",
      "dtypes: float64(1), int64(1)\n",
      "memory usage: 8.6 KB\n"
     ]
    }
   ],
   "source": [
    "groups = \"csv/groups.csv\"\n",
    "groups_add = \"csv/group_add.csv\"\n",
    "active_studs = \"csv/active_studs.csv\"\n",
    "checks = \"csv/checks.csv\"\n",
    "\n",
    "print(\"Файл с информацией о принадлежности пользователя к контрольной или экспериментальной группе \\n (А – контроль, B – целевая группа)\")\n",
    "df_groups = pd.read_csv(groups, sep=\";\")\n",
    "df_groups.head()\n",
    "df_groups.info()\n",
    "\n",
    "print(\"Дополнительный файл с пользователями, который вам прислали спустя 2 дня после передачи данных\")\n",
    "df_groups_add = pd.read_csv(groups_add)\n",
    "df_groups_add.head()\n",
    "df_groups_add.info()\n",
    "\n",
    "print(\"Файл с информацией о пользователях, которые зашли на платформу в дни проведения эксперимента\")\n",
    "df_active_studs = pd.read_csv(active_studs)\n",
    "df_active_studs.head()\n",
    "df_active_studs.info()\n",
    "\n",
    "print(\"Файл с информацией об оплатах пользователей в дни проведения эксперимента\")\n",
    "df_checks = pd.read_csv(checks, sep=\";\")\n",
    "df_checks.head()\n",
    "df_checks.info()"
   ]
  },
  {
   "cell_type": "markdown",
   "id": "f92ed0a5",
   "metadata": {},
   "source": [
    "### Объединяем таблицы"
   ]
  },
  {
   "cell_type": "code",
   "execution_count": 92,
   "id": "5918b55e",
   "metadata": {},
   "outputs": [
    {
     "name": "stderr",
     "output_type": "stream",
     "text": [
      "C:\\Users\\OMALAS~1\\AppData\\Local\\Temp/ipykernel_12120/379761011.py:1: FutureWarning: The frame.append method is deprecated and will be removed from pandas in a future version. Use pandas.concat instead.\n",
      "  df = df_groups.append(df_groups_add)\n"
     ]
    },
    {
     "data": {
      "text/plain": [
       "(74484, 2)"
      ]
     },
     "execution_count": 92,
     "metadata": {},
     "output_type": "execute_result"
    },
    {
     "data": {
      "text/plain": [
       "(92, 2)"
      ]
     },
     "execution_count": 92,
     "metadata": {},
     "output_type": "execute_result"
    },
    {
     "data": {
      "text/plain": [
       "(74576, 2)"
      ]
     },
     "execution_count": 92,
     "metadata": {},
     "output_type": "execute_result"
    }
   ],
   "source": [
    "df = df_groups.append(df_groups_add)\n",
    "df_groups.shape\n",
    "df_groups_add.shape\n",
    "df.shape"
   ]
  },
  {
   "cell_type": "markdown",
   "id": "9f1455fa",
   "metadata": {},
   "source": [
    "### Оставляем только пользователей, которые заходили на сайт"
   ]
  },
  {
   "cell_type": "code",
   "execution_count": 93,
   "id": "7bb5b468",
   "metadata": {
    "scrolled": true
   },
   "outputs": [
    {
     "data": {
      "text/plain": [
       "(8341, 2)"
      ]
     },
     "execution_count": 93,
     "metadata": {},
     "output_type": "execute_result"
    }
   ],
   "source": [
    "df = df[df.id.isin(df_active_studs.student_id)]\n",
    "df.shape"
   ]
  },
  {
   "cell_type": "markdown",
   "id": "3535fceb",
   "metadata": {},
   "source": [
    "### Объединяем 2 таблицы: пользователи - оплата"
   ]
  },
  {
   "cell_type": "code",
   "execution_count": 94,
   "id": "4b13fe68",
   "metadata": {
    "scrolled": false
   },
   "outputs": [
    {
     "data": {
      "text/plain": [
       "(8341, 3)"
      ]
     },
     "execution_count": 94,
     "metadata": {},
     "output_type": "execute_result"
    },
    {
     "data": {
      "text/html": [
       "<div>\n",
       "<style scoped>\n",
       "    .dataframe tbody tr th:only-of-type {\n",
       "        vertical-align: middle;\n",
       "    }\n",
       "\n",
       "    .dataframe tbody tr th {\n",
       "        vertical-align: top;\n",
       "    }\n",
       "\n",
       "    .dataframe thead th {\n",
       "        text-align: right;\n",
       "    }\n",
       "</style>\n",
       "<table border=\"1\" class=\"dataframe\">\n",
       "  <thead>\n",
       "    <tr style=\"text-align: right;\">\n",
       "      <th></th>\n",
       "      <th>id</th>\n",
       "      <th>grp</th>\n",
       "      <th>rev</th>\n",
       "    </tr>\n",
       "  </thead>\n",
       "  <tbody>\n",
       "    <tr>\n",
       "      <th>0</th>\n",
       "      <td>1627</td>\n",
       "      <td>A</td>\n",
       "      <td>990.0</td>\n",
       "    </tr>\n",
       "    <tr>\n",
       "      <th>1</th>\n",
       "      <td>2085</td>\n",
       "      <td>B</td>\n",
       "      <td>NaN</td>\n",
       "    </tr>\n",
       "    <tr>\n",
       "      <th>2</th>\n",
       "      <td>2215</td>\n",
       "      <td>B</td>\n",
       "      <td>NaN</td>\n",
       "    </tr>\n",
       "    <tr>\n",
       "      <th>3</th>\n",
       "      <td>3391</td>\n",
       "      <td>A</td>\n",
       "      <td>NaN</td>\n",
       "    </tr>\n",
       "    <tr>\n",
       "      <th>4</th>\n",
       "      <td>3401</td>\n",
       "      <td>B</td>\n",
       "      <td>NaN</td>\n",
       "    </tr>\n",
       "    <tr>\n",
       "      <th>...</th>\n",
       "      <td>...</td>\n",
       "      <td>...</td>\n",
       "      <td>...</td>\n",
       "    </tr>\n",
       "    <tr>\n",
       "      <th>8336</th>\n",
       "      <td>5760471</td>\n",
       "      <td>B</td>\n",
       "      <td>NaN</td>\n",
       "    </tr>\n",
       "    <tr>\n",
       "      <th>8337</th>\n",
       "      <td>5777081</td>\n",
       "      <td>B</td>\n",
       "      <td>NaN</td>\n",
       "    </tr>\n",
       "    <tr>\n",
       "      <th>8338</th>\n",
       "      <td>5870856</td>\n",
       "      <td>A</td>\n",
       "      <td>NaN</td>\n",
       "    </tr>\n",
       "    <tr>\n",
       "      <th>8339</th>\n",
       "      <td>5945085</td>\n",
       "      <td>B</td>\n",
       "      <td>NaN</td>\n",
       "    </tr>\n",
       "    <tr>\n",
       "      <th>8340</th>\n",
       "      <td>5951797</td>\n",
       "      <td>B</td>\n",
       "      <td>NaN</td>\n",
       "    </tr>\n",
       "  </tbody>\n",
       "</table>\n",
       "<p>8341 rows × 3 columns</p>\n",
       "</div>"
      ],
      "text/plain": [
       "           id grp    rev\n",
       "0        1627   A  990.0\n",
       "1        2085   B    NaN\n",
       "2        2215   B    NaN\n",
       "3        3391   A    NaN\n",
       "4        3401   B    NaN\n",
       "...       ...  ..    ...\n",
       "8336  5760471   B    NaN\n",
       "8337  5777081   B    NaN\n",
       "8338  5870856   A    NaN\n",
       "8339  5945085   B    NaN\n",
       "8340  5951797   B    NaN\n",
       "\n",
       "[8341 rows x 3 columns]"
      ]
     },
     "execution_count": 94,
     "metadata": {},
     "output_type": "execute_result"
    }
   ],
   "source": [
    "df = df.merge(df_checks, left_on='id', right_on='student_id', how='left')\n",
    "# Удаляем лишний столбец (дубликат из правой таблицы)\n",
    "df = df.drop(columns='student_id')   \n",
    "df.shape\n",
    "df"
   ]
  },
  {
   "cell_type": "markdown",
   "id": "6421e7d5",
   "metadata": {},
   "source": [
    "### Выбор метрик и из подсчет"
   ]
  },
  {
   "cell_type": "markdown",
   "id": "9295611c",
   "metadata": {},
   "source": [
    "Исходя из имеющихся данных предлагается 3 метрики:\n",
    "1. Конверсия: отношение покупок к посетителям\n",
    "2. Средний чек: отношение общей суммы покупок к покупателям\n",
    "3. Кол-во повторных покупок"
   ]
  },
  {
   "cell_type": "code",
   "execution_count": 95,
   "id": "2b1eba40",
   "metadata": {},
   "outputs": [
    {
     "data": {
      "text/plain": [
       "1627       1\n",
       "3301823    1\n",
       "3300381    1\n",
       "3300192    1\n",
       "3299928    1\n",
       "          ..\n",
       "1339665    1\n",
       "1339662    1\n",
       "1338134    1\n",
       "1338133    1\n",
       "5951797    1\n",
       "Name: id, Length: 8341, dtype: int64"
      ]
     },
     "execution_count": 95,
     "metadata": {},
     "output_type": "execute_result"
    }
   ],
   "source": [
    "# Проверим: есть ли повторные покупки?\n",
    "df.id.value_counts()"
   ]
  },
  {
   "cell_type": "code",
   "execution_count": 96,
   "id": "33dd3c5b",
   "metadata": {},
   "outputs": [],
   "source": [
    "# Повторных покупок нет - 3-я метрика отметается"
   ]
  },
  {
   "cell_type": "markdown",
   "id": "5e2d9cf9",
   "metadata": {},
   "source": [
    "##### Конверсия"
   ]
  },
  {
   "cell_type": "code",
   "execution_count": 97,
   "id": "e8f16b5a",
   "metadata": {
    "scrolled": true
   },
   "outputs": [
    {
     "name": "stdout",
     "output_type": "stream",
     "text": [
      "Конверсия в группе A: 5.07%\n",
      "Конверсия в группе B: 4.62%\n"
     ]
    }
   ],
   "source": [
    "conv_A = round((df[(df['grp']=='A') & (df.rev.notna())].shape[0] / df[df['grp']=='A'].shape[0]) * 100, 2)\n",
    "conv_B = round(df[(df['grp']=='B') & (df.rev.notna())].shape[0] / df[df['grp']=='B'].shape[0] * 100, 2)\n",
    "print(f\"Конверсия в группе A: {conv_A}%\")\n",
    "print(f\"Конверсия в группе B: {conv_B}%\")"
   ]
  },
  {
   "cell_type": "markdown",
   "id": "dffdae32",
   "metadata": {},
   "source": [
    "##### Средний чек"
   ]
  },
  {
   "cell_type": "code",
   "execution_count": 98,
   "id": "79fd073d",
   "metadata": {
    "scrolled": true
   },
   "outputs": [
    {
     "name": "stdout",
     "output_type": "stream",
     "text": [
      "Средний чек в группе A: 934.0\n",
      "Средний чек в группе B: 1258.0\n"
     ]
    }
   ],
   "source": [
    "average_order_A = round( (df[(df['grp']=='A') & (df.rev.notna())].rev.sum()) / ( df[(df['grp']=='A') & df.rev.notna()].shape[0]), 0)\n",
    "average_order_B = round( (df[(df['grp']=='B') & (df.rev.notna())].rev.sum()) / ( df[(df['grp']=='B') & df.rev.notna()].shape[0]), 0)\n",
    "print(f\"Средний чек в группе A: {average_order_A}\")\n",
    "print(f\"Средний чек в группе B: {average_order_B}\")"
   ]
  },
  {
   "cell_type": "markdown",
   "id": "8723b72a",
   "metadata": {},
   "source": [
    "### Определение статистической значимости полученного результата"
   ]
  },
  {
   "cell_type": "markdown",
   "id": "ed142d01",
   "metadata": {},
   "source": [
    "##### Средний чек"
   ]
  },
  {
   "cell_type": "code",
   "execution_count": 99,
   "id": "05d934c5",
   "metadata": {},
   "outputs": [],
   "source": [
    "df_rev = df[df.rev.notna()]"
   ]
  },
  {
   "cell_type": "code",
   "execution_count": 100,
   "id": "c27e9b2d",
   "metadata": {},
   "outputs": [
    {
     "data": {
      "text/plain": [
       "<AxesSubplot:xlabel='grp', ylabel='rev'>"
      ]
     },
     "execution_count": 100,
     "metadata": {},
     "output_type": "execute_result"
    },
    {
     "data": {
      "image/png": "[encoded data removed]",
      "text/plain": [
       "<Figure size 432x288 with 1 Axes>"
      ]
     },
     "metadata": {},
     "output_type": "display_data"
    }
   ],
   "source": [
    "# Построим боксплот\n",
    "sns.boxplot(data=df_rev, x='grp', y='rev') "
   ]
  },
  {
   "cell_type": "code",
   "execution_count": 101,
   "id": "331b24b4",
   "metadata": {},
   "outputs": [
    {
     "name": "stderr",
     "output_type": "stream",
     "text": [
      "c:\\users\\omalashenko\\anaconda3\\lib\\site-packages\\seaborn\\distributions.py:2619: FutureWarning: `distplot` is a deprecated function and will be removed in a future version. Please adapt your code to use either `displot` (a figure-level function with similar flexibility) or `histplot` (an axes-level function for histograms).\n",
      "  warnings.warn(msg, FutureWarning)\n"
     ]
    },
    {
     "data": {
      "text/plain": [
       "<AxesSubplot:xlabel='rev', ylabel='Density'>"
      ]
     },
     "execution_count": 101,
     "metadata": {},
     "output_type": "execute_result"
    },
    {
     "name": "stderr",
     "output_type": "stream",
     "text": [
      "c:\\users\\omalashenko\\anaconda3\\lib\\site-packages\\seaborn\\distributions.py:2619: FutureWarning: `distplot` is a deprecated function and will be removed in a future version. Please adapt your code to use either `displot` (a figure-level function with similar flexibility) or `histplot` (an axes-level function for histograms).\n",
      "  warnings.warn(msg, FutureWarning)\n"
     ]
    },
    {
     "data": {
      "text/plain": [
       "<AxesSubplot:xlabel='rev', ylabel='Density'>"
      ]
     },
     "execution_count": 101,
     "metadata": {},
     "output_type": "execute_result"
    },
    {
     "data": {
      "image/png": "[encoded data removed]",
      "text/plain": [
       "<Figure size 432x288 with 1 Axes>"
      ]
     },
     "metadata": {},
     "output_type": "display_data"
    }
   ],
   "source": [
    "# Дисперсия тестовой выборки - больше\n",
    "\n",
    "# Построим гистограммы  по каждой группе\n",
    "sns.distplot(df_rev[df_rev.grp == 'A'].rev)\n",
    "sns.distplot(df_rev[df_rev.grp == 'B'].rev)"
   ]
  },
  {
   "cell_type": "code",
   "execution_count": 102,
   "id": "0914858c",
   "metadata": {},
   "outputs": [
    {
     "data": {
      "text/plain": [
       "2.5316868804220266e-07"
      ]
     },
     "execution_count": 102,
     "metadata": {},
     "output_type": "execute_result"
    },
    {
     "data": {
      "text/plain": [
       "0.033445723194625424"
      ]
     },
     "execution_count": 102,
     "metadata": {},
     "output_type": "execute_result"
    }
   ],
   "source": [
    "# Тест на нормальное распределение ОБЕ выборки\n",
    "# Нулевая гипотеза - нормальное распределение\n",
    "k2, p = stats.normaltest(df_rev[df_rev.grp == 'A'].rev)\n",
    "p\n",
    "k2, p = stats.normaltest(df_rev[df_rev.grp == 'B'].rev)\n",
    "p"
   ]
  },
  {
   "cell_type": "code",
   "execution_count": 103,
   "id": "7707766b",
   "metadata": {},
   "outputs": [],
   "source": [
    "# Вывод: обе выборки распределены не нормально"
   ]
  },
  {
   "cell_type": "code",
   "execution_count": 104,
   "id": "e7f39317",
   "metadata": {},
   "outputs": [
    {
     "data": {
      "text/plain": [
       "MannwhitneyuResult(statistic=9001.0, pvalue=0.0002511393831406922)"
      ]
     },
     "execution_count": 104,
     "metadata": {},
     "output_type": "execute_result"
    }
   ],
   "source": [
    "# Сравним ДВЕ выборки непараметричесим методом - критериий mann-whitney\n",
    "mannwhitneyu(df_rev[df_rev.grp == 'A'].rev, df_rev[df_rev.grp == 'B'].rev)"
   ]
  },
  {
   "cell_type": "code",
   "execution_count": 105,
   "id": "d587ef1d",
   "metadata": {},
   "outputs": [],
   "source": [
    "# Вывод: средние двух выборок значимо различаются"
   ]
  },
  {
   "cell_type": "markdown",
   "id": "8dc15953",
   "metadata": {},
   "source": [
    "##### Конверсия"
   ]
  },
  {
   "cell_type": "code",
   "execution_count": 106,
   "id": "18a56db5",
   "metadata": {
    "scrolled": true
   },
   "outputs": [
    {
     "data": {
      "text/html": [
       "<div>\n",
       "<style scoped>\n",
       "    .dataframe tbody tr th:only-of-type {\n",
       "        vertical-align: middle;\n",
       "    }\n",
       "\n",
       "    .dataframe tbody tr th {\n",
       "        vertical-align: top;\n",
       "    }\n",
       "\n",
       "    .dataframe thead th {\n",
       "        text-align: right;\n",
       "    }\n",
       "</style>\n",
       "<table border=\"1\" class=\"dataframe\">\n",
       "  <thead>\n",
       "    <tr style=\"text-align: right;\">\n",
       "      <th></th>\n",
       "      <th>id</th>\n",
       "      <th>grp</th>\n",
       "      <th>rev</th>\n",
       "      <th>rev_flag</th>\n",
       "    </tr>\n",
       "  </thead>\n",
       "  <tbody>\n",
       "    <tr>\n",
       "      <th>0</th>\n",
       "      <td>1627</td>\n",
       "      <td>A</td>\n",
       "      <td>990.0</td>\n",
       "      <td>1</td>\n",
       "    </tr>\n",
       "    <tr>\n",
       "      <th>1</th>\n",
       "      <td>2085</td>\n",
       "      <td>B</td>\n",
       "      <td>NaN</td>\n",
       "      <td>0</td>\n",
       "    </tr>\n",
       "    <tr>\n",
       "      <th>2</th>\n",
       "      <td>2215</td>\n",
       "      <td>B</td>\n",
       "      <td>NaN</td>\n",
       "      <td>0</td>\n",
       "    </tr>\n",
       "    <tr>\n",
       "      <th>3</th>\n",
       "      <td>3391</td>\n",
       "      <td>A</td>\n",
       "      <td>NaN</td>\n",
       "      <td>0</td>\n",
       "    </tr>\n",
       "    <tr>\n",
       "      <th>4</th>\n",
       "      <td>3401</td>\n",
       "      <td>B</td>\n",
       "      <td>NaN</td>\n",
       "      <td>0</td>\n",
       "    </tr>\n",
       "  </tbody>\n",
       "</table>\n",
       "</div>"
      ],
      "text/plain": [
       "     id grp    rev  rev_flag\n",
       "0  1627   A  990.0         1\n",
       "1  2085   B    NaN         0\n",
       "2  2215   B    NaN         0\n",
       "3  3391   A    NaN         0\n",
       "4  3401   B    NaN         0"
      ]
     },
     "execution_count": 106,
     "metadata": {},
     "output_type": "execute_result"
    }
   ],
   "source": [
    "# Добавим в df еще одно поле - \"rev_flag\"  0-покупки не было, 1-была\n",
    "df['rev_flag'] = df['rev'].apply(lambda x: 1 if x > 0 else 0)\n",
    "df.head()"
   ]
  },
  {
   "cell_type": "code",
   "execution_count": 107,
   "id": "7dbfbddc",
   "metadata": {
    "scrolled": true
   },
   "outputs": [
    {
     "data": {
      "text/html": [
       "<div>\n",
       "<style scoped>\n",
       "    .dataframe tbody tr th:only-of-type {\n",
       "        vertical-align: middle;\n",
       "    }\n",
       "\n",
       "    .dataframe tbody tr th {\n",
       "        vertical-align: top;\n",
       "    }\n",
       "\n",
       "    .dataframe thead th {\n",
       "        text-align: right;\n",
       "    }\n",
       "</style>\n",
       "<table border=\"1\" class=\"dataframe\">\n",
       "  <thead>\n",
       "    <tr style=\"text-align: right;\">\n",
       "      <th></th>\n",
       "      <th>id</th>\n",
       "      <th>grp</th>\n",
       "      <th>rev</th>\n",
       "      <th>rev_flag</th>\n",
       "    </tr>\n",
       "  </thead>\n",
       "  <tbody>\n",
       "    <tr>\n",
       "      <th>0</th>\n",
       "      <td>1627</td>\n",
       "      <td>A</td>\n",
       "      <td>990.0</td>\n",
       "      <td>1</td>\n",
       "    </tr>\n",
       "    <tr>\n",
       "      <th>1</th>\n",
       "      <td>2085</td>\n",
       "      <td>B</td>\n",
       "      <td>NaN</td>\n",
       "      <td>0</td>\n",
       "    </tr>\n",
       "    <tr>\n",
       "      <th>2</th>\n",
       "      <td>2215</td>\n",
       "      <td>B</td>\n",
       "      <td>NaN</td>\n",
       "      <td>0</td>\n",
       "    </tr>\n",
       "    <tr>\n",
       "      <th>3</th>\n",
       "      <td>3391</td>\n",
       "      <td>A</td>\n",
       "      <td>NaN</td>\n",
       "      <td>0</td>\n",
       "    </tr>\n",
       "    <tr>\n",
       "      <th>4</th>\n",
       "      <td>3401</td>\n",
       "      <td>B</td>\n",
       "      <td>NaN</td>\n",
       "      <td>0</td>\n",
       "    </tr>\n",
       "    <tr>\n",
       "      <th>...</th>\n",
       "      <td>...</td>\n",
       "      <td>...</td>\n",
       "      <td>...</td>\n",
       "      <td>...</td>\n",
       "    </tr>\n",
       "    <tr>\n",
       "      <th>8336</th>\n",
       "      <td>5760471</td>\n",
       "      <td>B</td>\n",
       "      <td>NaN</td>\n",
       "      <td>0</td>\n",
       "    </tr>\n",
       "    <tr>\n",
       "      <th>8337</th>\n",
       "      <td>5777081</td>\n",
       "      <td>B</td>\n",
       "      <td>NaN</td>\n",
       "      <td>0</td>\n",
       "    </tr>\n",
       "    <tr>\n",
       "      <th>8338</th>\n",
       "      <td>5870856</td>\n",
       "      <td>A</td>\n",
       "      <td>NaN</td>\n",
       "      <td>0</td>\n",
       "    </tr>\n",
       "    <tr>\n",
       "      <th>8339</th>\n",
       "      <td>5945085</td>\n",
       "      <td>B</td>\n",
       "      <td>NaN</td>\n",
       "      <td>0</td>\n",
       "    </tr>\n",
       "    <tr>\n",
       "      <th>8340</th>\n",
       "      <td>5951797</td>\n",
       "      <td>B</td>\n",
       "      <td>NaN</td>\n",
       "      <td>0</td>\n",
       "    </tr>\n",
       "  </tbody>\n",
       "</table>\n",
       "<p>8341 rows × 4 columns</p>\n",
       "</div>"
      ],
      "text/plain": [
       "           id grp    rev  rev_flag\n",
       "0        1627   A  990.0         1\n",
       "1        2085   B    NaN         0\n",
       "2        2215   B    NaN         0\n",
       "3        3391   A    NaN         0\n",
       "4        3401   B    NaN         0\n",
       "...       ...  ..    ...       ...\n",
       "8336  5760471   B    NaN         0\n",
       "8337  5777081   B    NaN         0\n",
       "8338  5870856   A    NaN         0\n",
       "8339  5945085   B    NaN         0\n",
       "8340  5951797   B    NaN         0\n",
       "\n",
       "[8341 rows x 4 columns]"
      ]
     },
     "execution_count": 107,
     "metadata": {},
     "output_type": "execute_result"
    }
   ],
   "source": [
    "df"
   ]
  },
  {
   "cell_type": "markdown",
   "id": "0484861d",
   "metadata": {},
   "source": [
    "###### Подсчет статистической значимости с помощью критерия ХИ-квадрат"
   ]
  },
  {
   "cell_type": "code",
   "execution_count": 108,
   "id": "1d8c2b60",
   "metadata": {},
   "outputs": [],
   "source": [
    "from scipy.stats import chi2_contingency"
   ]
  },
  {
   "cell_type": "markdown",
   "id": "cc41c1f1",
   "metadata": {},
   "source": [
    "Нулевая гипотеза критерия ( H0 ) утверждает, что нет никакой связи между переменными. \n",
    "\n",
    "Альтернативная гипотеза - между ними существует значительная связь.\n",
    "\n",
    "Т.е. в нашем случае, альтернативная гипотеза утверждает, что существует связь между фактом покупки (конверсия) и исходной группой."
   ]
  },
  {
   "cell_type": "code",
   "execution_count": 109,
   "id": "0a1b3e8b",
   "metadata": {},
   "outputs": [
    {
     "data": {
      "text/html": [
       "<div>\n",
       "<style scoped>\n",
       "    .dataframe tbody tr th:only-of-type {\n",
       "        vertical-align: middle;\n",
       "    }\n",
       "\n",
       "    .dataframe tbody tr th {\n",
       "        vertical-align: top;\n",
       "    }\n",
       "\n",
       "    .dataframe thead th {\n",
       "        text-align: right;\n",
       "    }\n",
       "</style>\n",
       "<table border=\"1\" class=\"dataframe\">\n",
       "  <thead>\n",
       "    <tr style=\"text-align: right;\">\n",
       "      <th>rev_flag</th>\n",
       "      <th>0</th>\n",
       "      <th>1</th>\n",
       "    </tr>\n",
       "    <tr>\n",
       "      <th>grp</th>\n",
       "      <th></th>\n",
       "      <th></th>\n",
       "    </tr>\n",
       "  </thead>\n",
       "  <tbody>\n",
       "    <tr>\n",
       "      <th>A</th>\n",
       "      <td>1460</td>\n",
       "      <td>78</td>\n",
       "    </tr>\n",
       "    <tr>\n",
       "      <th>B</th>\n",
       "      <td>6489</td>\n",
       "      <td>314</td>\n",
       "    </tr>\n",
       "  </tbody>\n",
       "</table>\n",
       "</div>"
      ],
      "text/plain": [
       "rev_flag     0    1\n",
       "grp                \n",
       "A         1460   78\n",
       "B         6489  314"
      ]
     },
     "execution_count": 109,
     "metadata": {},
     "output_type": "execute_result"
    }
   ],
   "source": [
    "df_test = pd.crosstab(df['grp'], df['rev_flag']).reset_index()\n",
    "df_test = df_test.set_index('grp')\n",
    "df_test"
   ]
  },
  {
   "cell_type": "code",
   "execution_count": 110,
   "id": "54aa715a",
   "metadata": {},
   "outputs": [
    {
     "name": "stdout",
     "output_type": "stream",
     "text": [
      "Уровень значимости p - 0.48625240457231045\n"
     ]
    }
   ],
   "source": [
    "stat, p, dof, expected = chi2_contingency(df_test)\n",
    "print(f\"Уровень значимости p - {p}\")"
   ]
  },
  {
   "cell_type": "markdown",
   "id": "c8191cba",
   "metadata": {},
   "source": [
    "**Вывод**: Уровень значимости существенно выше 0,05, поэтому - мы отвергаем НЕнулевую гипотезу."
   ]
  },
  {
   "cell_type": "code",
   "execution_count": null,
   "id": "64663995",
   "metadata": {},
   "outputs": [],
   "source": []
  },
  {
   "cell_type": "markdown",
   "id": "c9b276ed",
   "metadata": {},
   "source": [
    "###### Дополнительно: подсчет статистической значимости с помощью бутстрапа"
   ]
  },
  {
   "cell_type": "code",
   "execution_count": 111,
   "id": "deda389b",
   "metadata": {},
   "outputs": [],
   "source": [
    "# С помощью бутстрапа выясним: существует ли статистическая значимость полученной разницы в конверсиях между выборками.\n",
    "# Считаея среднее поля \"rev_flag\" - фактически мы считаем конверсию"
   ]
  },
  {
   "cell_type": "code",
   "execution_count": 112,
   "id": "62f35e7a",
   "metadata": {},
   "outputs": [],
   "source": [
    "# Объявим функцию, которая позволит проверять гипотезы с помощью бутстрапа\n",
    "def get_bootstrap(\n",
    "    data_column_1, # числовые значения первой выборки\n",
    "    data_column_2, # числовые значения второй выборки\n",
    "    boot_it = 1000, # количество бутстрэп-подвыборок\n",
    "    statistic = np.mean, # интересующая нас статистика\n",
    "    bootstrap_conf_level = 0.95 # уровень значимости\n",
    "):\n",
    "    # Чтобы уровнять размер контрольной и тестовой выборок\n",
    "    boot_len = max([len(data_column_1), len(data_column_2)])\n",
    "    boot_data = []   # Сюда будем складывать оценки по Бутстрапу\n",
    "    for i in tqdm(range(boot_it)): # извлекаем подвыборки\n",
    "        samples_1 = data_column_1.sample(\n",
    "            boot_len, \n",
    "            replace = True # параметр возвращения\n",
    "        ).values\n",
    "        \n",
    "        samples_2 = data_column_2.sample(\n",
    "            boot_len, \n",
    "            replace = True\n",
    "        ).values\n",
    "        \n",
    "        boot_data.append(statistic(samples_1-samples_2)) # mean() - применяем эту статистику\n",
    "        \n",
    "    pd_boot_data = pd.DataFrame(boot_data)\n",
    "        \n",
    "    # Считаем доверительный интервал\n",
    "    left_quant = (1 - bootstrap_conf_level)/2\n",
    "    right_quant = 1 - (1 - bootstrap_conf_level) / 2\n",
    "    ci = pd_boot_data.quantile([left_quant, right_quant])\n",
    "        \n",
    "    # Считаем P-value по нормальному распределению\n",
    "    p_1 = norm.cdf(\n",
    "        x = 0, \n",
    "        loc = np.mean(boot_data), \n",
    "        scale = np.std(boot_data)\n",
    "    )\n",
    "    p_2 = norm.cdf(\n",
    "        x = 0, \n",
    "        loc = -np.mean(boot_data), \n",
    "        scale = np.std(boot_data)\n",
    "    )\n",
    "    p_value = min(p_1, p_2) * 2\n",
    "        \n",
    "    # Визуализация\n",
    "    plt.hist(pd_boot_data[0], bins = 50)\n",
    "    \n",
    "    plt.style.use('ggplot')\n",
    "    plt.vlines(ci,ymin=0,ymax=50,linestyle='--')\n",
    "    plt.xlabel('boot_data')\n",
    "    plt.ylabel('frequency')\n",
    "    plt.title(\"Histogram of boot_data\")\n",
    "    plt.show()\n",
    "       \n",
    "    return {\"boot_data\": boot_data, \n",
    "            \"ci\": ci, \n",
    "            \"p_value\": p_value}"
   ]
  },
  {
   "cell_type": "code",
   "execution_count": 113,
   "id": "500f521b",
   "metadata": {},
   "outputs": [
    {
     "data": {
      "application/vnd.jupyter.widget-view+json": {
       "model_id": "3fabf987f9634a938507dde4f81a87d0",
       "version_major": 2,
       "version_minor": 0
      },
      "text/plain": [
       "  0%|          | 0/2000 [00:00<?, ?it/s]"
      ]
     },
     "metadata": {},
     "output_type": "display_data"
    },
    {
     "data": {
      "image/png": "[encoded data removed]",
      "text/plain": [
       "<Figure size 432x288 with 1 Axes>"
      ]
     },
     "metadata": {},
     "output_type": "display_data"
    }
   ],
   "source": [
    "# В результате хранится разница двух распределений, ДИ и pvalue\n",
    "booted_data = get_bootstrap(df[df.grp == 'A'].rev_flag, df[df.grp == 'B'].rev_flag, boot_it = 2000) "
   ]
  },
  {
   "cell_type": "code",
   "execution_count": 114,
   "id": "c5e65426",
   "metadata": {},
   "outputs": [
    {
     "data": {
      "text/plain": [
       "0.1945856191816333"
      ]
     },
     "execution_count": 114,
     "metadata": {},
     "output_type": "execute_result"
    }
   ],
   "source": [
    "# P-value\n",
    "booted_data[\"p_value\"]"
   ]
  },
  {
   "cell_type": "code",
   "execution_count": 115,
   "id": "29595909",
   "metadata": {},
   "outputs": [
    {
     "data": {
      "text/html": [
       "<div>\n",
       "<style scoped>\n",
       "    .dataframe tbody tr th:only-of-type {\n",
       "        vertical-align: middle;\n",
       "    }\n",
       "\n",
       "    .dataframe tbody tr th {\n",
       "        vertical-align: top;\n",
       "    }\n",
       "\n",
       "    .dataframe thead th {\n",
       "        text-align: right;\n",
       "    }\n",
       "</style>\n",
       "<table border=\"1\" class=\"dataframe\">\n",
       "  <thead>\n",
       "    <tr style=\"text-align: right;\">\n",
       "      <th></th>\n",
       "      <th>0</th>\n",
       "    </tr>\n",
       "  </thead>\n",
       "  <tbody>\n",
       "    <tr>\n",
       "      <th>0.025</th>\n",
       "      <td>-0.002352</td>\n",
       "    </tr>\n",
       "    <tr>\n",
       "      <th>0.975</th>\n",
       "      <td>0.011910</td>\n",
       "    </tr>\n",
       "  </tbody>\n",
       "</table>\n",
       "</div>"
      ],
      "text/plain": [
       "              0\n",
       "0.025 -0.002352\n",
       "0.975  0.011910"
      ]
     },
     "execution_count": 115,
     "metadata": {},
     "output_type": "execute_result"
    }
   ],
   "source": [
    "# Доверительные интервал\n",
    "booted_data[\"ci\"]"
   ]
  },
  {
   "cell_type": "code",
   "execution_count": 116,
   "id": "753cb9b9",
   "metadata": {},
   "outputs": [],
   "source": [
    "# Вывод: полученная разница в конверсии - статистичеки не значима"
   ]
  },
  {
   "cell_type": "markdown",
   "id": "9ea9ac32",
   "metadata": {},
   "source": [
    "### Итоговые выводы"
   ]
  },
  {
   "cell_type": "markdown",
   "id": "63961e43",
   "metadata": {},
   "source": [
    "По результатам AB-теста выявлено **статистически значимое** увеличение вкличины среднего чека с **934.0** до **1258.0**\n",
    "\n",
    "Вычисленое снижение конверсии с 5.07% до 4.62% - **статистически не значимо**.\n",
    "\n",
    "**Вывод: по итогам экспериманте принимаем НЕнулевую гипотезу в отошении метрики \"Средний чек\" и принимаем решение, что запускать новую механику на всех пользователей целесообразно.**"
   ]
  }
 ],
 "metadata": {
  "kernelspec": {
   "display_name": "Python 3 (ipykernel)",
   "language": "python",
   "name": "python3"
  },
  "language_info": {
   "codemirror_mode": {
    "name": "ipython",
    "version": 3
   },
   "file_extension": ".py",
   "mimetype": "text/x-python",
   "name": "python",
   "nbconvert_exporter": "python",
   "pygments_lexer": "ipython3",
   "version": "3.9.7"
  }
 },
 "nbformat": 4,
 "nbformat_minor": 5
}
